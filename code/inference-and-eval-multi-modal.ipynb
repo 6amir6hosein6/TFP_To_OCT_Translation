{
 "cells": [
  {
   "cell_type": "markdown",
   "id": "1814e9e4",
   "metadata": {},
   "source": [
    "# Evaluate a multi-modal CNN on the given test set \n",
    "\n",
    "Written by Weisen Wang\n",
    "\n",
    "2022-03-06"
   ]
  },
  {
   "cell_type": "markdown",
   "id": "81fbca1b",
   "metadata": {},
   "source": [
    "## Environment\n",
    "+ Ubuntu 18.04.5 LTS\n",
    "+ Python 3.7.12\n",
    "+ conda install pytorch==1.1.0 torchvision==0.3.0 cudatoolkit=10.0 \n",
    "+ See requirements.txt for other python packages"
   ]
  },
  {
   "cell_type": "code",
   "execution_count": 1,
   "id": "6c9e475e",
   "metadata": {},
   "outputs": [],
   "source": [
    "import time\n",
    "import torch\n",
    "import torchvision\n",
    "import numpy as np\n",
    "import cv2 as cv\n",
    "\n",
    "import utils\n",
    "import models\n",
    "import data\n",
    "import matplotlib.pyplot as plt\n",
    "\n",
    "from sklearn.metrics import accuracy_score\n",
    "from sklearn.metrics import confusion_matrix\n",
    "from sklearn.metrics import roc_curve, auc"
   ]
  },
  {
   "cell_type": "markdown",
   "id": "72c601bd",
   "metadata": {},
   "source": [
    "# 1. Evaluate a multi-modal CNN"
   ]
  },
  {
   "cell_type": "markdown",
   "id": "0c153645",
   "metadata": {},
   "source": [
    "## Step 1. Load a trained mm model"
   ]
  },
  {
   "cell_type": "code",
   "execution_count": 2,
   "id": "b3666497",
   "metadata": {},
   "outputs": [
    {
     "name": "stdout",
     "output_type": "stream",
     "text": [
      "load checkpoint 'weights/weights_splitA/mm-clahe_median3x3-3.pth'\n",
      "\n"
     ]
    }
   ],
   "source": [
    "device = 0\n",
    "device = torch.device(\"cuda: {}\".format(device) if (torch.cuda.is_available() and device != \"cpu\") else \"cpu\")\n",
    "configs = utils.load_config(\"config-mm.py\")\n",
    "configs.heatmap = True\n",
    "\n",
    "label_list = 'h d p w'.split() # normal, dryAMD, pcv and wetAMD\n",
    "n_classes = len(label_list)\n",
    "checkpoint = \"weights/weights_splitA/mm-clahe_median3x3-3.pth\"\n",
    "\n",
    "model = models.load_two_stream_model(configs, device, checkpoint)\n",
    "model.eval()\n",
    "print ()"
   ]
  },
  {
   "cell_type": "markdown",
   "id": "cf65f4b2",
   "metadata": {},
   "source": [
    "## Step 2. Load test image ids"
   ]
  },
  {
   "cell_type": "code",
   "execution_count": 3,
   "id": "b7f79205",
   "metadata": {},
   "outputs": [
    {
     "name": "stdout",
     "output_type": "stream",
     "text": [
      "mmc-amd-splitA-test, mm -> 143 test samples\n",
      "#label count\n",
      "h 20\n",
      "d 38\n",
      "p 47\n",
      "w 38\n"
     ]
    }
   ],
   "source": [
    "testset = 'mmc-amd-splitA-test'\n",
    "modality = 'mm'\n",
    "imset = data.read_imset(testset, modality)\n",
    "n_samples = len(imset)\n",
    "y_true = []\n",
    "for test_img_id in imset:\n",
    "    y = test_img_id.split('-')[1]\n",
    "    y = label_list.index(y)\n",
    "    y_true.append(y)\n",
    "print ('%s, %s -> %d test samples' % (testset, modality, len(imset)))\n",
    "print (\"#label count\")\n",
    "for i,lab in enumerate(label_list):\n",
    "    print (lab, y_true.count(i))"
   ]
  },
  {
   "cell_type": "markdown",
   "id": "bb7f31d0",
   "metadata": {},
   "source": [
    "### Step 2.1 Try to predict a specific image pair"
   ]
  },
  {
   "cell_type": "code",
   "execution_count": 4,
   "id": "1d7c9885",
   "metadata": {},
   "outputs": [
    {
     "name": "stdout",
     "output_type": "stream",
     "text": [
      "VisualSearch/mmc-amd/ImageData/cfp-clahe-448x448/f-w-1544817.jpg VisualSearch/mmc-amd/ImageData/oct-median3x3-448x448/o-w-1544817.jpg\n",
      "f-w-1544817 o-w-1544817 w -> [9.6903136e-03 3.9751405e-05 9.2912900e-01 6.1140910e-02] p\n"
     ]
    }
   ],
   "source": [
    "test_cfp_id, test_oct_id = imset[0].split(' ')\n",
    "cfp_impath = data.get_impath(test_cfp_id)\n",
    "oct_impath = data.get_impath(test_oct_id)\n",
    "print(cfp_impath, oct_impath)\n",
    "raw_cfp, new_cfp = data.load_image(cfp_impath, configs)\n",
    "raw_oct, new_oct = data.load_image(oct_impath, configs)\n",
    "y = test_cfp_id.split('-')[1]\n",
    "assert y == test_oct_id.split('-')[1]\n",
    "assert(y in label_list)\n",
    "scores = models.predict(model, (new_cfp.to(device), new_oct.to(device)))\n",
    "pred = np.argmax(scores)\n",
    "print (test_cfp_id, test_oct_id, y, '->', scores, label_list[pred])"
   ]
  },
  {
   "cell_type": "markdown",
   "id": "a8c4760c",
   "metadata": {},
   "source": [
    "## Step 3. Predict the test set"
   ]
  },
  {
   "cell_type": "code",
   "execution_count": 5,
   "id": "334c7674",
   "metadata": {},
   "outputs": [
    {
     "name": "stdout",
     "output_type": "stream",
     "text": [
      "process 143 images in 3.14666 seconds\n"
     ]
    }
   ],
   "source": [
    "s_time = time.time()\n",
    "score_table = np.zeros((n_samples, n_classes))\n",
    "for i, test_img_id in enumerate(imset):\n",
    "    test_cfp_id, test_oct_id = test_img_id.split(' ')\n",
    "    cfp_impath = data.get_impath(test_cfp_id)\n",
    "    oct_impath = data.get_impath(test_oct_id)\n",
    "    raw_cfp, new_cfp = data.load_image(cfp_impath, configs)\n",
    "    raw_oct, new_oct = data.load_image(oct_impath, configs)\n",
    "    scores = models.predict(model, (new_cfp.to(device), new_oct.to(device)))\n",
    "    score_table[i] = scores\n",
    "y_pred = np.argmax(score_table, axis=1)\n",
    "timespan = time.time() - s_time\n",
    "print (\"process %d images in %g seconds\" % (n_samples, timespan))"
   ]
  },
  {
   "cell_type": "markdown",
   "id": "1a4edc7e",
   "metadata": {},
   "source": [
    "## Step 4. Report performance metrics"
   ]
  },
  {
   "cell_type": "markdown",
   "id": "a9077704",
   "metadata": {},
   "source": [
    "### Accuracy"
   ]
  },
  {
   "cell_type": "code",
   "execution_count": 6,
   "id": "12aba637",
   "metadata": {},
   "outputs": [
    {
     "name": "stdout",
     "output_type": "stream",
     "text": [
      "accuracy 0.8671\n"
     ]
    }
   ],
   "source": [
    "accuracy = accuracy_score(y_true, y_pred)\n",
    "print ('accuracy %.4f' % accuracy)"
   ]
  },
  {
   "cell_type": "markdown",
   "id": "4f6223db",
   "metadata": {},
   "source": [
    "### Mutli-class Confusion matrix"
   ]
  },
  {
   "cell_type": "code",
   "execution_count": 7,
   "id": "525cefd7",
   "metadata": {},
   "outputs": [
    {
     "data": {
      "text/plain": [
       "array([[20,  0,  0,  0],\n",
       "       [ 0, 33,  0,  5],\n",
       "       [ 0,  0, 38,  9],\n",
       "       [ 0,  0,  5, 33]])"
      ]
     },
     "execution_count": 7,
     "metadata": {},
     "output_type": "execute_result"
    }
   ],
   "source": [
    "confusion_matrix(y_true, y_pred)"
   ]
  },
  {
   "cell_type": "markdown",
   "id": "2bc3792f",
   "metadata": {},
   "source": [
    "### Sensitivity, Specificity and F1 per class"
   ]
  },
  {
   "cell_type": "code",
   "execution_count": 8,
   "id": "a27bcad1",
   "metadata": {},
   "outputs": [
    {
     "name": "stdout",
     "output_type": "stream",
     "text": [
      "#class sen spe f1\n",
      "normal 1.000 1.000 1.000\n",
      "dryAMD 0.868 1.000 0.930\n",
      "pcv 0.809 0.948 0.873\n",
      "wetAMD 0.868 0.867 0.868\n"
     ]
    }
   ],
   "source": [
    "class_names = 'normal dryAMD pcv wetAMD'.split()\n",
    "print ('#class sen spe f1')\n",
    "oper_points = []\n",
    "for i in range(n_classes):\n",
    "    y_test = [int(x==i) for x in y_true] # obtain binary label per class\n",
    "    tn, fp, fn, tp = confusion_matrix(y_test, [x==i for x in y_pred]).ravel()\n",
    "    sen = float(tp) / (fn + tp)\n",
    "    spe = float(tn) / (tn + fp)\n",
    "    f1 = 2*sen*spe / (sen + spe)\n",
    "    oper_points.append((1-spe, sen))\n",
    "    print (class_names[i], '%.3f %.3f %.3f' % (sen, spe, f1))"
   ]
  },
  {
   "cell_type": "markdown",
   "id": "63968877",
   "metadata": {},
   "source": [
    "### ROC curves and AUC"
   ]
  },
  {
   "cell_type": "code",
   "execution_count": 9,
   "id": "d44dd24f",
   "metadata": {},
   "outputs": [],
   "source": [
    "# Compute ROC curve and ROC area for each class\n",
    "fpr = dict()\n",
    "tpr = dict()\n",
    "roc_auc = dict()\n",
    "for i in range(n_classes):\n",
    "    y_test = [int(x==i) for x in y_true] # obtain binary label per class\n",
    "    y_score = score_table[:, i] # prediced scores per class\n",
    "    fpr[i], tpr[i], _ = roc_curve(y_test, y_score)\n",
    "    roc_auc[i] = auc(fpr[i], tpr[i])"
   ]
  },
  {
   "cell_type": "code",
   "execution_count": 10,
   "id": "2a65259d",
   "metadata": {},
   "outputs": [
    {
     "data": {
      "image/png": "[encoded data removed]",
      "text/plain": [
       "<Figure size 432x288 with 1 Axes>"
      ]
     },
     "metadata": {
      "needs_background": "light"
     },
     "output_type": "display_data"
    }
   ],
   "source": [
    "lw = 2\n",
    "plt.figure()\n",
    "\n",
    "colors = [\"black\", \"red\", \"green\", \"blue\"]\n",
    "for i, color in zip(range(n_classes), colors):\n",
    "    if i <1:\n",
    "        continue\n",
    "    plt.plot(\n",
    "        fpr[i],\n",
    "        tpr[i],\n",
    "        color=color,\n",
    "        lw=lw,\n",
    "        label=\"{0} (AUC = {1:0.2f})\".format(class_names[i], roc_auc[i]),\n",
    "    )\n",
    "    plt.plot(oper_points[i][0], oper_points[i][1], 'o', \n",
    "         ms=8, markerfacecolor=\"None\", markeredgecolor='red')\n",
    "\n",
    "plt.plot([0, 1], [0, 1], \"k--\", lw=lw)\n",
    "plt.xlim([0.0, 1.0])\n",
    "plt.ylim([0.0, 1.05])\n",
    "plt.xlabel(\"1 - Specificity\")\n",
    "plt.ylabel(\"Sensitivity\")\n",
    "plt.legend(loc=\"lower right\")\n",
    "plt.tight_layout()\n",
    "plt.show()"
   ]
  },
  {
   "cell_type": "code",
   "execution_count": null,
   "id": "4d502c08",
   "metadata": {},
   "outputs": [],
   "source": []
  }
 ],
 "metadata": {
  "kernelspec": {
   "display_name": "Python 3 (ipykernel)",
   "language": "python",
   "name": "python3"
  },
  "language_info": {
   "codemirror_mode": {
    "name": "ipython",
    "version": 3
   },
   "file_extension": ".py",
   "mimetype": "text/x-python",
   "name": "python",
   "nbconvert_exporter": "python",
   "pygments_lexer": "ipython3",
   "version": "3.7.11"
  }
 },
 "nbformat": 4,
 "nbformat_minor": 5
}
