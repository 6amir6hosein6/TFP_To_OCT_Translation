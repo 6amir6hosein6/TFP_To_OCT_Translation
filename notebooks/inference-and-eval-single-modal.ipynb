{
 "cells": [
  {
   "cell_type": "markdown",
   "id": "1814e9e4",
   "metadata": {},
   "source": [
    "# Evaluate a single-modal CNN on the given test set \n",
    "\n",
    "Written by Xirong Li\n",
    "\n",
    "2022-02-26"
   ]
  },
  {
   "cell_type": "code",
   "execution_count": 1,
   "id": "524b40a6",
   "metadata": {},
   "outputs": [
    {
     "name": "stdout",
     "output_type": "stream",
     "text": [
      "Python 3.7.10\r\n"
     ]
    }
   ],
   "source": [
    "!python3 --version"
   ]
  },
  {
   "cell_type": "code",
   "execution_count": null,
   "id": "fda55489",
   "metadata": {},
   "outputs": [],
   "source": []
  },
  {
   "cell_type": "markdown",
   "id": "81fbca1b",
   "metadata": {},
   "source": [
    "## Environment\n",
    "+ Ubuntu 18.04.5 LTS\n",
    "+ Python 3.7.12\n",
    "+ conda install pytorch==1.1.0 torchvision==0.3.0 cudatoolkit=10.0 \n",
    "+ See requirements.txt for other python packages"
   ]
  },
  {
   "cell_type": "code",
   "execution_count": 2,
   "id": "6c9e475e",
   "metadata": {},
   "outputs": [
    {
     "ename": "ModuleNotFoundError",
     "evalue": "No module named 'torch'",
     "output_type": "error",
     "traceback": [
      "\u001b[0;31m---------------------------------------------------------------------------\u001b[0m",
      "\u001b[0;31mModuleNotFoundError\u001b[0m                       Traceback (most recent call last)",
      "\u001b[0;32m/tmp/ipykernel_14018/1454559499.py\u001b[0m in \u001b[0;36m<module>\u001b[0;34m\u001b[0m\n\u001b[1;32m      3\u001b[0m \u001b[0;34m\u001b[0m\u001b[0m\n\u001b[1;32m      4\u001b[0m \u001b[0;32mimport\u001b[0m \u001b[0mtime\u001b[0m\u001b[0;34m\u001b[0m\u001b[0;34m\u001b[0m\u001b[0m\n\u001b[0;32m----> 5\u001b[0;31m \u001b[0;32mimport\u001b[0m \u001b[0mtorch\u001b[0m\u001b[0;34m\u001b[0m\u001b[0;34m\u001b[0m\u001b[0m\n\u001b[0m\u001b[1;32m      6\u001b[0m \u001b[0;32mimport\u001b[0m \u001b[0mtorchvision\u001b[0m\u001b[0;34m\u001b[0m\u001b[0;34m\u001b[0m\u001b[0m\n\u001b[1;32m      7\u001b[0m \u001b[0;32mimport\u001b[0m \u001b[0mnumpy\u001b[0m \u001b[0;32mas\u001b[0m \u001b[0mnp\u001b[0m\u001b[0;34m\u001b[0m\u001b[0;34m\u001b[0m\u001b[0m\n",
      "\u001b[0;31mModuleNotFoundError\u001b[0m: No module named 'torch'"
     ]
    }
   ],
   "source": [
    "import os\n",
    "os.chdir(\"../code/\")\n",
    "\n",
    "import time\n",
    "import torch\n",
    "import torchvision\n",
    "import numpy as np\n",
    "import cv2 as cv\n",
    "\n",
    "import utils\n",
    "import models\n",
    "import data\n",
    "import matplotlib.pyplot as plt\n",
    "\n",
    "from sklearn.metrics import accuracy_score\n",
    "from sklearn.metrics import confusion_matrix\n",
    "from sklearn.metrics import roc_curve, auc"
   ]
  },
  {
   "cell_type": "markdown",
   "id": "b68909f7",
   "metadata": {},
   "source": [
    "# 1. Evaluate a CFP single-modal CNN"
   ]
  },
  {
   "cell_type": "markdown",
   "id": "0c153645",
   "metadata": {},
   "source": [
    "## Step 1. Load a trained CFP model"
   ]
  },
  {
   "cell_type": "code",
   "execution_count": 3,
   "id": "b3666497",
   "metadata": {},
   "outputs": [
    {
     "name": "stdout",
     "output_type": "stream",
     "text": [
      "load checkpoint 'weights/weights_splitA/cfp-clahe.pth'\n"
     ]
    },
    {
     "ename": "FileNotFoundError",
     "evalue": "[Errno 2] No such file or directory: 'weights/weights_splitA/cfp-clahe.pth'",
     "output_type": "error",
     "traceback": [
      "\u001b[0;31m---------------------------------------------------------------------------\u001b[0m",
      "\u001b[0;31mFileNotFoundError\u001b[0m                         Traceback (most recent call last)",
      "\u001b[0;32m/tmp/ipykernel_17181/3110899073.py\u001b[0m in \u001b[0;36m<module>\u001b[0;34m\u001b[0m\n\u001b[1;32m      8\u001b[0m \u001b[0mcheckpoint\u001b[0m \u001b[0;34m=\u001b[0m \u001b[0;34m\"weights/weights_splitA/cfp-clahe.pth\"\u001b[0m\u001b[0;34m\u001b[0m\u001b[0;34m\u001b[0m\u001b[0m\n\u001b[1;32m      9\u001b[0m \u001b[0;34m\u001b[0m\u001b[0m\n\u001b[0;32m---> 10\u001b[0;31m \u001b[0mmodel\u001b[0m \u001b[0;34m=\u001b[0m \u001b[0mmodels\u001b[0m\u001b[0;34m.\u001b[0m\u001b[0mload_single_stream_model\u001b[0m\u001b[0;34m(\u001b[0m\u001b[0mconfigs\u001b[0m\u001b[0;34m,\u001b[0m \u001b[0mdevice\u001b[0m\u001b[0;34m,\u001b[0m \u001b[0mcheckpoint\u001b[0m\u001b[0;34m)\u001b[0m\u001b[0;34m\u001b[0m\u001b[0;34m\u001b[0m\u001b[0m\n\u001b[0m\u001b[1;32m     11\u001b[0m \u001b[0mmodel\u001b[0m\u001b[0;34m.\u001b[0m\u001b[0meval\u001b[0m\u001b[0;34m(\u001b[0m\u001b[0;34m)\u001b[0m\u001b[0;34m\u001b[0m\u001b[0;34m\u001b[0m\u001b[0m\n\u001b[1;32m     12\u001b[0m \u001b[0mprint\u001b[0m \u001b[0;34m(\u001b[0m\u001b[0;34m)\u001b[0m\u001b[0;34m\u001b[0m\u001b[0;34m\u001b[0m\u001b[0m\n",
      "\u001b[0;32m~/PycharmProjects/mmc-amd/code/models/__init__.py\u001b[0m in \u001b[0;36mload_single_stream_model\u001b[0;34m(configs, device, checkpoint)\u001b[0m\n\u001b[1;32m     23\u001b[0m             \u001b[0mmodel\u001b[0m\u001b[0;34m.\u001b[0m\u001b[0mload_state_dict\u001b[0m\u001b[0;34m(\u001b[0m\u001b[0mtorch\u001b[0m\u001b[0;34m.\u001b[0m\u001b[0mload\u001b[0m\u001b[0;34m(\u001b[0m\u001b[0mcheckpoint\u001b[0m\u001b[0;34m,\u001b[0m \u001b[0mmap_location\u001b[0m\u001b[0;34m=\u001b[0m\u001b[0;34m\"cuda:{}\"\u001b[0m\u001b[0;34m.\u001b[0m\u001b[0mformat\u001b[0m\u001b[0;34m(\u001b[0m\u001b[0mdevice\u001b[0m\u001b[0;34m.\u001b[0m\u001b[0mindex\u001b[0m\u001b[0;34m)\u001b[0m\u001b[0;34m)\u001b[0m\u001b[0;34m)\u001b[0m\u001b[0;34m\u001b[0m\u001b[0;34m\u001b[0m\u001b[0m\n\u001b[1;32m     24\u001b[0m         \u001b[0;32melse\u001b[0m\u001b[0;34m:\u001b[0m\u001b[0;34m\u001b[0m\u001b[0;34m\u001b[0m\u001b[0m\n\u001b[0;32m---> 25\u001b[0;31m             \u001b[0mmodel\u001b[0m\u001b[0;34m.\u001b[0m\u001b[0mload_state_dict\u001b[0m\u001b[0;34m(\u001b[0m\u001b[0mtorch\u001b[0m\u001b[0;34m.\u001b[0m\u001b[0mload\u001b[0m\u001b[0;34m(\u001b[0m\u001b[0mcheckpoint\u001b[0m\u001b[0;34m,\u001b[0m \u001b[0mmap_location\u001b[0m\u001b[0;34m=\u001b[0m\u001b[0;34m{\u001b[0m\u001b[0;34m\"cpu\"\u001b[0m\u001b[0;34m}\u001b[0m\u001b[0;34m)\u001b[0m\u001b[0;34m)\u001b[0m\u001b[0;34m\u001b[0m\u001b[0;34m\u001b[0m\u001b[0m\n\u001b[0m\u001b[1;32m     26\u001b[0m     \u001b[0;32melse\u001b[0m\u001b[0;34m:\u001b[0m\u001b[0;34m\u001b[0m\u001b[0;34m\u001b[0m\u001b[0m\n\u001b[1;32m     27\u001b[0m         \u001b[0mmodel\u001b[0m \u001b[0;34m=\u001b[0m \u001b[0minit_resnet18\u001b[0m\u001b[0;34m(\u001b[0m\u001b[0mpretrained\u001b[0m\u001b[0;34m=\u001b[0m\u001b[0;32mTrue\u001b[0m\u001b[0;34m,\u001b[0m \u001b[0mheatmap\u001b[0m\u001b[0;34m=\u001b[0m\u001b[0mconfigs\u001b[0m\u001b[0;34m.\u001b[0m\u001b[0mheatmap\u001b[0m\u001b[0;34m)\u001b[0m\u001b[0;34m\u001b[0m\u001b[0;34m\u001b[0m\u001b[0m\n",
      "\u001b[0;32m~/PycharmProjects/mmc-amd/venv/lib/python3.7/site-packages/torch/serialization.py\u001b[0m in \u001b[0;36mload\u001b[0;34m(f, map_location, pickle_module, **pickle_load_args)\u001b[0m\n\u001b[1;32m    380\u001b[0m             \u001b[0;34m(\u001b[0m\u001b[0msys\u001b[0m\u001b[0;34m.\u001b[0m\u001b[0mversion_info\u001b[0m\u001b[0;34m[\u001b[0m\u001b[0;36m0\u001b[0m\u001b[0;34m]\u001b[0m \u001b[0;34m==\u001b[0m \u001b[0;36m2\u001b[0m \u001b[0;32mand\u001b[0m \u001b[0misinstance\u001b[0m\u001b[0;34m(\u001b[0m\u001b[0mf\u001b[0m\u001b[0;34m,\u001b[0m \u001b[0municode\u001b[0m\u001b[0;34m)\u001b[0m\u001b[0;34m)\u001b[0m\u001b[0;34m:\u001b[0m\u001b[0;34m\u001b[0m\u001b[0;34m\u001b[0m\u001b[0m\n\u001b[1;32m    381\u001b[0m         \u001b[0mnew_fd\u001b[0m \u001b[0;34m=\u001b[0m \u001b[0;32mTrue\u001b[0m\u001b[0;34m\u001b[0m\u001b[0;34m\u001b[0m\u001b[0m\n\u001b[0;32m--> 382\u001b[0;31m         \u001b[0mf\u001b[0m \u001b[0;34m=\u001b[0m \u001b[0mopen\u001b[0m\u001b[0;34m(\u001b[0m\u001b[0mf\u001b[0m\u001b[0;34m,\u001b[0m \u001b[0;34m'rb'\u001b[0m\u001b[0;34m)\u001b[0m\u001b[0;34m\u001b[0m\u001b[0;34m\u001b[0m\u001b[0m\n\u001b[0m\u001b[1;32m    383\u001b[0m     \u001b[0;32melif\u001b[0m \u001b[0;34m(\u001b[0m\u001b[0msys\u001b[0m\u001b[0;34m.\u001b[0m\u001b[0mversion_info\u001b[0m\u001b[0;34m[\u001b[0m\u001b[0;36m0\u001b[0m\u001b[0;34m]\u001b[0m \u001b[0;34m==\u001b[0m \u001b[0;36m3\u001b[0m \u001b[0;32mand\u001b[0m \u001b[0misinstance\u001b[0m\u001b[0;34m(\u001b[0m\u001b[0mf\u001b[0m\u001b[0;34m,\u001b[0m \u001b[0mpathlib\u001b[0m\u001b[0;34m.\u001b[0m\u001b[0mPath\u001b[0m\u001b[0;34m)\u001b[0m\u001b[0;34m)\u001b[0m\u001b[0;34m:\u001b[0m\u001b[0;34m\u001b[0m\u001b[0;34m\u001b[0m\u001b[0m\n\u001b[1;32m    384\u001b[0m         \u001b[0mnew_fd\u001b[0m \u001b[0;34m=\u001b[0m \u001b[0;32mTrue\u001b[0m\u001b[0;34m\u001b[0m\u001b[0;34m\u001b[0m\u001b[0m\n",
      "\u001b[0;31mFileNotFoundError\u001b[0m: [Errno 2] No such file or directory: 'weights/weights_splitA/cfp-clahe.pth'"
     ]
    }
   ],
   "source": [
    "device = 0\n",
    "device = torch.device(\"cuda: {}\".format(device) if (torch.cuda.is_available() and device != \"cpu\") else \"cpu\")\n",
    "configs = utils.load_config(\"config-cfp.py\")\n",
    "configs.heatmap = True\n",
    "\n",
    "label_list = 'h d p w'.split() # normal, dryAMD, pcv and wetAMD\n",
    "n_classes = len(label_list)\n",
    "checkpoint = \"weights/weights_splitA/cfp-clahe.pth\"\n",
    "\n",
    "model = models.load_single_stream_model(configs, device, checkpoint)\n",
    "model.eval()\n",
    "print ()"
   ]
  },
  {
   "cell_type": "markdown",
   "id": "cf65f4b2",
   "metadata": {},
   "source": [
    "## Step 2. Load test image ids"
   ]
  },
  {
   "cell_type": "code",
   "execution_count": 3,
   "id": "b7f79205",
   "metadata": {},
   "outputs": [
    {
     "name": "stdout",
     "output_type": "stream",
     "text": [
      "mmc-amd-splitA-test, cfp -> 80 test samples\n",
      "#label count\n",
      "h 20\n",
      "d 20\n",
      "p 20\n",
      "w 20\n"
     ]
    }
   ],
   "source": [
    "testset = 'mmc-amd-splitA-test'\n",
    "modality = 'cfp'\n",
    "imset = data.read_imset(testset, modality)\n",
    "n_samples = len(imset)\n",
    "y_true = []\n",
    "for test_img_id in imset:\n",
    "    y = test_img_id.split('-')[1]\n",
    "    y = label_list.index(y)\n",
    "    y_true.append(y)\n",
    "print ('%s, %s -> %d test samples' % (testset, modality, len(imset)))\n",
    "print (\"#label count\")\n",
    "for i,lab in enumerate(label_list):\n",
    "    print (lab, y_true.count(i))"
   ]
  },
  {
   "cell_type": "markdown",
   "id": "bb7f31d0",
   "metadata": {},
   "source": [
    "### Step 2.1 Try to predict a specific image"
   ]
  },
  {
   "cell_type": "code",
   "execution_count": 4,
   "id": "1d7c9885",
   "metadata": {},
   "outputs": [
    {
     "name": "stdout",
     "output_type": "stream",
     "text": [
      "VisualSearch/mmc-amd/ImageData/cfp-clahe-448x448/f-w-1544817.jpg\n",
      "f-w-1544817 w -> [0.01239675 0.30891058 0.37095594 0.30773672] p\n"
     ]
    }
   ],
   "source": [
    "test_img_id = imset[0]\n",
    "impath = data.get_impath(test_img_id)\n",
    "print(impath)\n",
    "raw_im, new_im = data.load_image(impath, configs)\n",
    "y = test_img_id.split('-')[1]\n",
    "assert(y in label_list)\n",
    "scores = models.predict(model, new_im.to(device))\n",
    "pred = np.argmax(scores)\n",
    "print (test_img_id, y, '->', scores, label_list[pred])"
   ]
  },
  {
   "cell_type": "markdown",
   "id": "a8c4760c",
   "metadata": {},
   "source": [
    "## Step 3. Predict the test set"
   ]
  },
  {
   "cell_type": "code",
   "execution_count": 5,
   "id": "334c7674",
   "metadata": {},
   "outputs": [
    {
     "name": "stdout",
     "output_type": "stream",
     "text": [
      "process 80 images in 1.1601 seconds\n"
     ]
    }
   ],
   "source": [
    "s_time = time.time()\n",
    "score_table = np.zeros((n_samples, n_classes))\n",
    "for i, test_img_id in enumerate(imset):\n",
    "    impath = data.get_impath(test_img_id)\n",
    "    raw_im, new_im = data.load_image(impath, configs)\n",
    "    scores = models.predict(model, new_im.to(device))\n",
    "    score_table[i] = scores\n",
    "y_pred = np.argmax(score_table, axis=1)\n",
    "timespan = time.time() - s_time\n",
    "print (\"process %d images in %g seconds\" % (n_samples, timespan))"
   ]
  },
  {
   "cell_type": "markdown",
   "id": "1a4edc7e",
   "metadata": {},
   "source": [
    "## Step 4. Report performance metrics"
   ]
  },
  {
   "cell_type": "markdown",
   "id": "a9077704",
   "metadata": {},
   "source": [
    "### Accuracy"
   ]
  },
  {
   "cell_type": "code",
   "execution_count": 6,
   "id": "12aba637",
   "metadata": {},
   "outputs": [
    {
     "name": "stdout",
     "output_type": "stream",
     "text": [
      "accuracy 0.7375\n"
     ]
    }
   ],
   "source": [
    "accuracy = accuracy_score(y_true, y_pred)\n",
    "print ('accuracy %.4f' % accuracy)"
   ]
  },
  {
   "cell_type": "markdown",
   "id": "4f6223db",
   "metadata": {},
   "source": [
    "### Mutli-class Confusion matrix"
   ]
  },
  {
   "cell_type": "code",
   "execution_count": 7,
   "id": "525cefd7",
   "metadata": {},
   "outputs": [
    {
     "data": {
      "text/plain": [
       "array([[20,  0,  0,  0],\n",
       "       [ 1, 16,  1,  2],\n",
       "       [ 0,  1, 15,  4],\n",
       "       [ 1,  3,  8,  8]])"
      ]
     },
     "execution_count": 7,
     "metadata": {},
     "output_type": "execute_result"
    }
   ],
   "source": [
    "confusion_matrix(y_true, y_pred)"
   ]
  },
  {
   "cell_type": "markdown",
   "id": "2bc3792f",
   "metadata": {},
   "source": [
    "### Sensitivity, Specificity and F1 per class"
   ]
  },
  {
   "cell_type": "code",
   "execution_count": 8,
   "id": "a27bcad1",
   "metadata": {},
   "outputs": [
    {
     "name": "stdout",
     "output_type": "stream",
     "text": [
      "#class sen spe f1\n",
      "normal 1.000 0.967 0.983\n",
      "dryAMD 0.800 0.933 0.862\n",
      "pcv 0.750 0.850 0.797\n",
      "wetAMD 0.400 0.900 0.554\n"
     ]
    }
   ],
   "source": [
    "class_names = 'normal dryAMD pcv wetAMD'.split()\n",
    "print ('#class sen spe f1')\n",
    "oper_points = []\n",
    "for i in range(n_classes):\n",
    "    y_test = [int(x==i) for x in y_true] # obtain binary label per class\n",
    "    tn, fp, fn, tp = confusion_matrix(y_test, [x==i for x in y_pred]).ravel()\n",
    "    sen = float(tp) / (fn + tp)\n",
    "    spe = float(tn) / (tn + fp)\n",
    "    f1 = 2*sen*spe / (sen + spe)\n",
    "    oper_points.append((1-spe, sen))\n",
    "    print (class_names[i], '%.3f %.3f %.3f' % (sen, spe, f1))"
   ]
  },
  {
   "cell_type": "markdown",
   "id": "63968877",
   "metadata": {},
   "source": [
    "### ROC curves and AUC"
   ]
  },
  {
   "cell_type": "code",
   "execution_count": 9,
   "id": "d44dd24f",
   "metadata": {},
   "outputs": [],
   "source": [
    "# Compute ROC curve and ROC area for each class\n",
    "fpr = dict()\n",
    "tpr = dict()\n",
    "roc_auc = dict()\n",
    "for i in range(n_classes):\n",
    "    y_test = [int(x==i) for x in y_true] # obtain binary label per class\n",
    "    y_score = score_table[:, i] # prediced scores per class\n",
    "    fpr[i], tpr[i], _ = roc_curve(y_test, y_score)\n",
    "    roc_auc[i] = auc(fpr[i], tpr[i])"
   ]
  },
  {
   "cell_type": "code",
   "execution_count": 10,
   "id": "2a65259d",
   "metadata": {},
   "outputs": [
    {
     "data": {
      "image/png": "[encoded data removed]",
      "text/plain": [
       "<Figure size 432x288 with 1 Axes>"
      ]
     },
     "metadata": {
      "needs_background": "light"
     },
     "output_type": "display_data"
    }
   ],
   "source": [
    "lw = 2\n",
    "plt.figure()\n",
    "\n",
    "colors = [\"black\", \"red\", \"green\", \"blue\"]\n",
    "for i, color in zip(range(n_classes), colors):\n",
    "    if i <1:\n",
    "        continue\n",
    "    plt.plot(\n",
    "        fpr[i],\n",
    "        tpr[i],\n",
    "        color=color,\n",
    "        lw=lw,\n",
    "        label=\"{0} (AUC = {1:0.2f})\".format(class_names[i], roc_auc[i]),\n",
    "    )\n",
    "    plt.plot(oper_points[i][0], oper_points[i][1], 'o', \n",
    "         ms=8, markerfacecolor=\"None\", markeredgecolor='red')\n",
    "\n",
    "plt.plot([0, 1], [0, 1], \"k--\", lw=lw)\n",
    "plt.xlim([0.0, 1.0])\n",
    "plt.ylim([0.0, 1.05])\n",
    "plt.xlabel(\"1 - Specificity\")\n",
    "plt.ylabel(\"Sensitivity\")\n",
    "plt.legend(loc=\"lower right\")\n",
    "plt.tight_layout()\n",
    "plt.show()"
   ]
  },
  {
   "cell_type": "markdown",
   "id": "625bb840",
   "metadata": {},
   "source": [
    "# 2. Evaluate an OCT single-modal CNN"
   ]
  },
  {
   "cell_type": "markdown",
   "id": "979d544c",
   "metadata": {},
   "source": [
    "## Step 1. Load a trained OCT model"
   ]
  },
  {
   "cell_type": "code",
   "execution_count": 11,
   "id": "1fb2d010",
   "metadata": {},
   "outputs": [
    {
     "name": "stdout",
     "output_type": "stream",
     "text": [
      "load checkpoint 'weights/weights_splitA/oct-median3x3.pth'\n",
      "\n"
     ]
    }
   ],
   "source": [
    "device = 0\n",
    "device = torch.device(\"cuda: {}\".format(device) if (torch.cuda.is_available() and device != \"cpu\") else \"cpu\")\n",
    "configs = utils.load_config(\"config-oct.py\")\n",
    "configs.heatmap = True\n",
    "\n",
    "label_list = 'h d p w'.split() # normal, dryAMD, pcv and wetAMD\n",
    "n_classes = len(label_list)\n",
    "checkpoint = \"weights/weights_splitA/oct-median3x3.pth\"\n",
    "\n",
    "model = models.load_single_stream_model(configs, device, checkpoint)\n",
    "model.eval()\n",
    "print ()"
   ]
  },
  {
   "cell_type": "markdown",
   "id": "547ed3ad",
   "metadata": {},
   "source": [
    "## Step 2. Load test image ids"
   ]
  },
  {
   "cell_type": "code",
   "execution_count": 12,
   "id": "1b32933e",
   "metadata": {},
   "outputs": [
    {
     "name": "stdout",
     "output_type": "stream",
     "text": [
      "mmc-amd-splitA-test, oct -> 143 test samples\n",
      "#label count\n",
      "h 20\n",
      "d 38\n",
      "p 47\n",
      "w 38\n"
     ]
    }
   ],
   "source": [
    "testset = 'mmc-amd-splitA-test'\n",
    "modality = 'oct'\n",
    "imset = data.read_imset(testset, modality)\n",
    "n_samples = len(imset)\n",
    "y_true = []\n",
    "for test_img_id in imset:\n",
    "    y = test_img_id.split('-')[1]\n",
    "    y = label_list.index(y)\n",
    "    y_true.append(y)\n",
    "print ('%s, %s -> %d test samples' % (testset, modality, len(imset)))\n",
    "print (\"#label count\")\n",
    "for i,lab in enumerate(label_list):\n",
    "    print (lab, y_true.count(i))"
   ]
  },
  {
   "cell_type": "markdown",
   "id": "509f7eeb",
   "metadata": {},
   "source": [
    "### Step 2.1 Try to predict a specific image"
   ]
  },
  {
   "cell_type": "code",
   "execution_count": 13,
   "id": "5549e807",
   "metadata": {},
   "outputs": [
    {
     "name": "stdout",
     "output_type": "stream",
     "text": [
      "VisualSearch/mmc-amd/ImageData/oct-median3x3-448x448/o-w-27662-l_003.jpg\n",
      "o-w-27662-l_003 w -> [0.00460858 0.00433527 0.24710102 0.7439552 ] w\n"
     ]
    }
   ],
   "source": [
    "test_img_id = imset[0]\n",
    "impath = data.get_impath(test_img_id)\n",
    "print(impath)\n",
    "raw_im, new_im = data.load_image(impath, configs)\n",
    "y = test_img_id.split('-')[1]\n",
    "assert(y in label_list)\n",
    "scores = models.predict(model, new_im.to(device))\n",
    "pred = np.argmax(scores)\n",
    "print (test_img_id, y, '->', scores, label_list[pred])"
   ]
  },
  {
   "cell_type": "markdown",
   "id": "e080e412",
   "metadata": {},
   "source": [
    "## Step 3. Predict the test set"
   ]
  },
  {
   "cell_type": "code",
   "execution_count": 14,
   "id": "941e7e93",
   "metadata": {},
   "outputs": [
    {
     "name": "stdout",
     "output_type": "stream",
     "text": [
      "process 143 images in 1.56154 seconds\n"
     ]
    }
   ],
   "source": [
    "s_time = time.time()\n",
    "score_table = np.zeros((n_samples, n_classes))\n",
    "for i, test_img_id in enumerate(imset):\n",
    "    impath = data.get_impath(test_img_id)\n",
    "    raw_im, new_im = data.load_image(impath, configs)\n",
    "    scores = models.predict(model, new_im.to(device))\n",
    "    score_table[i] = scores\n",
    "y_pred = np.argmax(score_table, axis=1)\n",
    "timespan = time.time() - s_time\n",
    "print (\"process %d images in %g seconds\" % (n_samples, timespan))"
   ]
  },
  {
   "cell_type": "markdown",
   "id": "9c7acbfe",
   "metadata": {},
   "source": [
    "## Step 4. Report performance metrics"
   ]
  },
  {
   "cell_type": "markdown",
   "id": "4ea9ec24",
   "metadata": {},
   "source": [
    "### Accuracy"
   ]
  },
  {
   "cell_type": "code",
   "execution_count": 15,
   "id": "ad8eb2ce",
   "metadata": {},
   "outputs": [
    {
     "name": "stdout",
     "output_type": "stream",
     "text": [
      "accuracy 0.8252\n"
     ]
    }
   ],
   "source": [
    "accuracy = accuracy_score(y_true, y_pred)\n",
    "print ('accuracy %.4f' % accuracy)"
   ]
  },
  {
   "cell_type": "markdown",
   "id": "2019b1a8",
   "metadata": {},
   "source": [
    "### Mutli-class Confusion matrix"
   ]
  },
  {
   "cell_type": "code",
   "execution_count": 16,
   "id": "c06f50f1",
   "metadata": {},
   "outputs": [
    {
     "data": {
      "text/plain": [
       "array([[20,  0,  0,  0],\n",
       "       [ 1, 34,  1,  2],\n",
       "       [ 0,  0, 36, 11],\n",
       "       [ 0,  1,  9, 28]])"
      ]
     },
     "execution_count": 16,
     "metadata": {},
     "output_type": "execute_result"
    }
   ],
   "source": [
    "confusion_matrix(y_true, y_pred)"
   ]
  },
  {
   "cell_type": "markdown",
   "id": "68c757d5",
   "metadata": {},
   "source": [
    "### Sensitivity, Specificity and F1 per class"
   ]
  },
  {
   "cell_type": "code",
   "execution_count": 17,
   "id": "db1d9493",
   "metadata": {},
   "outputs": [
    {
     "name": "stdout",
     "output_type": "stream",
     "text": [
      "#class sen spe f1\n",
      "normal 1.000 0.992 0.996\n",
      "dryAMD 0.895 0.990 0.940\n",
      "pcv 0.766 0.896 0.826\n",
      "wetAMD 0.737 0.876 0.800\n"
     ]
    }
   ],
   "source": [
    "class_names = 'normal dryAMD pcv wetAMD'.split()\n",
    "print ('#class sen spe f1')\n",
    "oper_points = []\n",
    "for i in range(n_classes):\n",
    "    y_test = [int(x==i) for x in y_true] # obtain binary label per class\n",
    "    tn, fp, fn, tp = confusion_matrix(y_test, [x==i for x in y_pred]).ravel()\n",
    "    sen = float(tp) / (fn + tp)\n",
    "    spe = float(tn) / (tn + fp)\n",
    "    f1 = 2*sen*spe / (sen + spe)\n",
    "    oper_points.append((1-spe, sen))\n",
    "    print (class_names[i], '%.3f %.3f %.3f' % (sen, spe, f1))"
   ]
  },
  {
   "cell_type": "markdown",
   "id": "925cdadc",
   "metadata": {},
   "source": [
    "### ROC curves and AUC"
   ]
  },
  {
   "cell_type": "code",
   "execution_count": 18,
   "id": "7f52152b",
   "metadata": {},
   "outputs": [],
   "source": [
    "# Compute ROC curve and ROC area for each class\n",
    "fpr = dict()\n",
    "tpr = dict()\n",
    "roc_auc = dict()\n",
    "for i in range(n_classes):\n",
    "    y_test = [int(x==i) for x in y_true] # obtain binary label per class\n",
    "    y_score = score_table[:, i] # prediced scores per class\n",
    "    fpr[i], tpr[i], _ = roc_curve(y_test, y_score)\n",
    "    roc_auc[i] = auc(fpr[i], tpr[i])"
   ]
  },
  {
   "cell_type": "code",
   "execution_count": 19,
   "id": "c1349891",
   "metadata": {},
   "outputs": [
    {
     "data": {
      "image/png": "[encoded data removed]",
      "text/plain": [
       "<Figure size 432x288 with 1 Axes>"
      ]
     },
     "metadata": {
      "needs_background": "light"
     },
     "output_type": "display_data"
    }
   ],
   "source": [
    "lw = 2\n",
    "plt.figure()\n",
    "\n",
    "colors = [\"black\", \"red\", \"green\", \"blue\"]\n",
    "for i, color in zip(range(n_classes), colors):\n",
    "    if i <1:\n",
    "        continue\n",
    "    plt.plot(\n",
    "        fpr[i],\n",
    "        tpr[i],\n",
    "        color=color,\n",
    "        lw=lw,\n",
    "        label=\"{0} (AUC = {1:0.2f})\".format(class_names[i], roc_auc[i]),\n",
    "    )\n",
    "    plt.plot(oper_points[i][0], oper_points[i][1], 'o', \n",
    "         ms=8, markerfacecolor=\"None\", markeredgecolor='red')\n",
    "\n",
    "plt.plot([0, 1], [0, 1], \"k--\", lw=lw)\n",
    "plt.xlim([0.0, 1.0])\n",
    "plt.ylim([0.0, 1.05])\n",
    "plt.xlabel(\"1 - Specificity\")\n",
    "plt.ylabel(\"Sensitivity\")\n",
    "plt.legend(loc=\"lower right\")\n",
    "plt.tight_layout()\n",
    "plt.show()"
   ]
  },
  {
   "cell_type": "code",
   "execution_count": null,
   "id": "df1d2c22",
   "metadata": {},
   "outputs": [],
   "source": []
  }
 ],
 "metadata": {
  "kernelspec": {
   "display_name": "Python 3 (ipykernel)",
   "language": "python",
   "name": "python3"
  },
  "language_info": {
   "codemirror_mode": {
    "name": "ipython",
    "version": 3
   },
   "file_extension": ".py",
   "mimetype": "text/x-python",
   "name": "python",
   "nbconvert_exporter": "python",
   "pygments_lexer": "ipython3",
   "version": "3.8.10"
  }
 },
 "nbformat": 4,
 "nbformat_minor": 5
}
