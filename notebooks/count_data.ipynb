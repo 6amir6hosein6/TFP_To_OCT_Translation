{
 "cells": [
  {
   "cell_type": "code",
   "execution_count": 1,
   "id": "2d3cf710",
   "metadata": {},
   "outputs": [],
   "source": [
    "import os"
   ]
  },
  {
   "cell_type": "code",
   "execution_count": 23,
   "id": "897358dd",
   "metadata": {},
   "outputs": [
    {
     "name": "stdout",
     "output_type": "stream",
     "text": [
      "['mmc-amd-splitAP-train', 'mmc-amd-splitAP-val', 'mmc-amd-splitAP-test']\n"
     ]
    }
   ],
   "source": [
    "data_path = os.path.join(os.environ['HOME'], 'VisualSearch')\n",
    "version = 'mmc-amd-splitA'  # zero-eye overlap between train/val/test\n",
    "version = 'mmc-amd-splitAP' # zero-subject overlap between train/val/test\n",
    "datasets = ['%s-%s' % (version, x) for x in 'train val test'.split()]\n",
    "print (datasets)\n",
    "\n",
    "modalities = 'cfp oct'.split()\n",
    "id_types = 'Image Eye Subject'.split()"
   ]
  },
  {
   "cell_type": "markdown",
   "id": "4f4960b1",
   "metadata": {},
   "source": [
    "## Read image/eye/subject ids per dataset"
   ]
  },
  {
   "cell_type": "code",
   "execution_count": 24,
   "id": "c8910792",
   "metadata": {},
   "outputs": [
    {
     "name": "stdout",
     "output_type": "stream",
     "text": [
      "cfp Image\n",
      "mmc-amd-splitAP-train 934\n",
      "mmc-amd-splitAP-val 80\n",
      "mmc-amd-splitAP-test 80\n",
      "\n",
      "cfp Eye\n",
      "mmc-amd-splitAP-train 933\n",
      "mmc-amd-splitAP-val 80\n",
      "mmc-amd-splitAP-test 80\n",
      "\n",
      "cfp Subject\n",
      "mmc-amd-splitAP-train 707\n",
      "mmc-amd-splitAP-val 62\n",
      "mmc-amd-splitAP-test 60\n",
      "\n",
      "oct Image\n",
      "mmc-amd-splitAP-train 1024\n",
      "mmc-amd-splitAP-val 134\n",
      "mmc-amd-splitAP-test 131\n",
      "\n",
      "oct Eye\n",
      "mmc-amd-splitAP-train 659\n",
      "mmc-amd-splitAP-val 79\n",
      "mmc-amd-splitAP-test 79\n",
      "\n",
      "oct Subject\n",
      "mmc-amd-splitAP-train 516\n",
      "mmc-amd-splitAP-val 62\n",
      "mmc-amd-splitAP-test 60\n",
      "\n"
     ]
    }
   ],
   "source": [
    "id_sets = dict([(m,{}) for m in modalities])\n",
    "\n",
    "for m in modalities:\n",
    "    for id_t in id_types:\n",
    "        id_sets[m][id_t] = {}\n",
    "        print (m, id_t)\n",
    "        for dataset in datasets:\n",
    "            id_file = os.path.join(data_path, dataset, '%sSets' % id_t, '%s.txt' % m)\n",
    "            ids = [x.strip() for x in open(id_file).readlines() if x.strip()]\n",
    "            id_sets[m][id_t][dataset] = ids\n",
    "            print (dataset, len(ids))\n",
    "        print ('')"
   ]
  },
  {
   "cell_type": "markdown",
   "id": "1a4d0200",
   "metadata": {},
   "source": [
    "## Check image overlap between datasets"
   ]
  },
  {
   "cell_type": "code",
   "execution_count": 25,
   "id": "a26915c2",
   "metadata": {},
   "outputs": [
    {
     "name": "stdout",
     "output_type": "stream",
     "text": [
      "cfp mmc-amd-splitAP-train mmc-amd-splitAP-val 934 80 -> 0\n",
      "cfp mmc-amd-splitAP-train mmc-amd-splitAP-test 934 80 -> 0\n",
      "cfp mmc-amd-splitAP-val mmc-amd-splitAP-test 80 80 -> 0\n",
      "oct mmc-amd-splitAP-train mmc-amd-splitAP-val 1024 134 -> 0\n",
      "oct mmc-amd-splitAP-train mmc-amd-splitAP-test 1024 131 -> 0\n",
      "oct mmc-amd-splitAP-val mmc-amd-splitAP-test 134 131 -> 0\n"
     ]
    }
   ],
   "source": [
    "id_t = 'Image'\n",
    "for m in modalities:\n",
    "    for i in range(len(datasets)-1):\n",
    "        for j in range(i+1, len(datasets)):\n",
    "            n_i = len(set(id_sets[m][id_t][datasets[i]]))\n",
    "            n_j = len(set(id_sets[m][id_t][datasets[j]]))\n",
    "            overlap = set(id_sets[m][id_t][datasets[i]]).intersection(set(id_sets[m][id_t][datasets[j]]))\n",
    "            print (m, datasets[i], datasets[j], n_i, n_j, '->', len(overlap))"
   ]
  },
  {
   "cell_type": "markdown",
   "id": "1079d59e",
   "metadata": {},
   "source": [
    "## Check eye overlap between datasets"
   ]
  },
  {
   "cell_type": "code",
   "execution_count": 26,
   "id": "c50c8367",
   "metadata": {},
   "outputs": [
    {
     "name": "stdout",
     "output_type": "stream",
     "text": [
      "cfp mmc-amd-splitAP-train mmc-amd-splitAP-val 933 80 -> 0\n",
      "cfp mmc-amd-splitAP-train mmc-amd-splitAP-test 933 80 -> 0\n",
      "cfp mmc-amd-splitAP-val mmc-amd-splitAP-test 80 80 -> 0\n",
      "oct mmc-amd-splitAP-train mmc-amd-splitAP-val 659 79 -> 0\n",
      "oct mmc-amd-splitAP-train mmc-amd-splitAP-test 659 79 -> 0\n",
      "oct mmc-amd-splitAP-val mmc-amd-splitAP-test 79 79 -> 0\n"
     ]
    }
   ],
   "source": [
    "id_t = 'Eye'\n",
    "for m in modalities:\n",
    "    for i in range(len(datasets)-1):\n",
    "        for j in range(i+1, len(datasets)):\n",
    "            n_i = len(set(id_sets[m][id_t][datasets[i]]))\n",
    "            n_j = len(set(id_sets[m][id_t][datasets[j]]))\n",
    "            overlap = set(id_sets[m][id_t][datasets[i]]).intersection(set(id_sets[m][id_t][datasets[j]]))\n",
    "            print (m, datasets[i], datasets[j], n_i, n_j, '->', len(overlap))"
   ]
  },
  {
   "cell_type": "markdown",
   "id": "fdc81846",
   "metadata": {},
   "source": [
    "## Check subject overlap between datasets"
   ]
  },
  {
   "cell_type": "code",
   "execution_count": 27,
   "id": "5d98f2c8",
   "metadata": {},
   "outputs": [
    {
     "name": "stdout",
     "output_type": "stream",
     "text": [
      "cfp mmc-amd-splitAP-train mmc-amd-splitAP-val 707 62 -> 0\n",
      "cfp mmc-amd-splitAP-train mmc-amd-splitAP-test 707 60 -> 0\n",
      "cfp mmc-amd-splitAP-val mmc-amd-splitAP-test 62 60 -> 0\n",
      "oct mmc-amd-splitAP-train mmc-amd-splitAP-val 516 62 -> 0\n",
      "oct mmc-amd-splitAP-train mmc-amd-splitAP-test 516 60 -> 0\n",
      "oct mmc-amd-splitAP-val mmc-amd-splitAP-test 62 60 -> 0\n"
     ]
    }
   ],
   "source": [
    "id_t = 'Subject'\n",
    "for m in modalities:\n",
    "    for i in range(len(datasets)-1):\n",
    "        for j in range(i+1, len(datasets)):\n",
    "            n_i = len(set(id_sets[m][id_t][datasets[i]]))\n",
    "            n_j = len(set(id_sets[m][id_t][datasets[j]]))\n",
    "            overlap = set(id_sets[m][id_t][datasets[i]]).intersection(set(id_sets[m][id_t][datasets[j]]))\n",
    "            print (m, datasets[i], datasets[j], n_i, n_j, '->', len(overlap))"
   ]
  },
  {
   "cell_type": "markdown",
   "id": "1cc1a82b",
   "metadata": {},
   "source": [
    "## Counter labels per dataset"
   ]
  },
  {
   "cell_type": "code",
   "execution_count": 28,
   "id": "67c9b72c",
   "metadata": {},
   "outputs": [
    {
     "name": "stdout",
     "output_type": "stream",
     "text": [
      "mmc-amd-splitAP-train mmc-amd-splitAP-val mmc-amd-splitAP-test\n",
      "(cfp, oct) (cfp, oct) (cfp, oct) \n",
      "h [(155, 156), (20, 20), (20, 20)]\n",
      "d [(67, 42), (20, 36), (20, 28)]\n",
      "p [(259, 294), (20, 43), (20, 43)]\n",
      "w [(453, 532), (20, 35), (20, 40)]\n"
     ]
    }
   ],
   "source": [
    "labels = 'h d p w'.split()\n",
    "count = dict([(m,{'Image':{}}) for m in modalities])\n",
    "\n",
    "for dataset in datasets:\n",
    "    for m in modalities:\n",
    "        count[m]['Image'][dataset] = dict([(y,0) for y in labels])\n",
    "        imset = id_sets[m]['Image'][dataset]\n",
    "        for x in imset:\n",
    "            y = x.split('-')[1]\n",
    "            count[m]['Image'][dataset][y] += 1\n",
    "\n",
    "print(' '.join(datasets))\n",
    "print('(cfp, oct) '*len(datasets))\n",
    "for y in labels:\n",
    "    line = []\n",
    "    for dataset in datasets:\n",
    "        n_cfp = count['cfp']['Image'][dataset][y]\n",
    "        n_oct = count['oct']['Image'][dataset][y]\n",
    "        line.append((n_cfp, n_oct))\n",
    "    print (y, line)    \n"
   ]
  },
  {
   "cell_type": "markdown",
   "id": "6055b4f7",
   "metadata": {},
   "source": [
    "## Count CFP images per dataset"
   ]
  },
  {
   "cell_type": "code",
   "execution_count": 29,
   "id": "56f117c0",
   "metadata": {},
   "outputs": [
    {
     "name": "stdout",
     "output_type": "stream",
     "text": [
      "mmc-amd-splitAP-train cfp 934\n",
      "mmc-amd-splitAP-val cfp 80\n",
      "mmc-amd-splitAP-test cfp 80\n",
      "1094 cfp images in total\n"
     ]
    }
   ],
   "source": [
    "all_set = set()\n",
    "for dataset in datasets:\n",
    "    img_set =  id_sets['cfp']['Image'][dataset]\n",
    "    all_set = all_set.union(img_set)\n",
    "    print (dataset, 'cfp', len(img_set))\n",
    "print ('%d cfp images in total' % len(all_set))"
   ]
  },
  {
   "cell_type": "markdown",
   "id": "27569789",
   "metadata": {},
   "source": [
    "## Count OCT images per dataset"
   ]
  },
  {
   "cell_type": "code",
   "execution_count": 30,
   "id": "3da302fd",
   "metadata": {},
   "outputs": [
    {
     "name": "stdout",
     "output_type": "stream",
     "text": [
      "mmc-amd-splitAP-train oct 1024\n",
      "mmc-amd-splitAP-val oct 134\n",
      "mmc-amd-splitAP-test oct 131\n",
      "1289 oct images in total\n"
     ]
    }
   ],
   "source": [
    "all_set = set()\n",
    "for dataset in datasets:\n",
    "    img_set =  id_sets['oct']['Image'][dataset]\n",
    "    all_set = all_set.union(img_set)\n",
    "    print (dataset, 'oct', len(img_set))\n",
    "print ('%d oct images in total' % len(all_set))"
   ]
  },
  {
   "cell_type": "markdown",
   "id": "a4b38f73",
   "metadata": {},
   "source": [
    "## Count eyes per dataset"
   ]
  },
  {
   "cell_type": "code",
   "execution_count": 31,
   "id": "b13164af",
   "metadata": {},
   "outputs": [
    {
     "name": "stdout",
     "output_type": "stream",
     "text": [
      "mmc-amd-splitAP-train cfp 933 oct 659 cfp&oct 982\n",
      "mmc-amd-splitAP-val cfp 80 oct 79 cfp&oct 80\n",
      "mmc-amd-splitAP-test cfp 80 oct 79 cfp&oct 80\n",
      "1093 eyes have cfp images\n",
      "817 eyes have oct images\n",
      "768 eyes have both cfp and oct images\n"
     ]
    }
   ],
   "source": [
    "all_cfp_set = set()\n",
    "all_oct_set = set()\n",
    "\n",
    "for dataset in datasets:\n",
    "    cfp_set =  id_sets['cfp']['Eye'][dataset]\n",
    "    oct_set =  id_sets['oct']['Eye'][dataset]\n",
    "    common_set = set(cfp_set).union(set(oct_set))\n",
    "    all_cfp_set = all_cfp_set.union(set(cfp_set))\n",
    "    all_oct_set = all_oct_set.union(set(oct_set))   \n",
    "    print (dataset, 'cfp', len(cfp_set), 'oct', len(oct_set), 'cfp&oct', len(common_set))\n",
    "print ('%d eyes have cfp images' % len(all_cfp_set))\n",
    "print ('%d eyes have oct images' % len(all_oct_set))\n",
    "print ('%d eyes have both cfp and oct images' % len(all_oct_set.intersection(all_cfp_set)))"
   ]
  },
  {
   "cell_type": "markdown",
   "id": "3cc0d75e",
   "metadata": {},
   "source": [
    "## Count subjects per dataset"
   ]
  },
  {
   "cell_type": "code",
   "execution_count": 32,
   "id": "0be35963",
   "metadata": {},
   "outputs": [
    {
     "name": "stdout",
     "output_type": "stream",
     "text": [
      "mmc-amd-splitAP-train cfp 707 oct 516 cfp&oct 740\n",
      "mmc-amd-splitAP-val cfp 62 oct 62 cfp&oct 62\n",
      "mmc-amd-splitAP-test cfp 60 oct 60 cfp&oct 60\n",
      "829 subjects have cfp images\n",
      "638 subjects have oct images\n",
      "605 subjects have both cfp and oct images\n"
     ]
    }
   ],
   "source": [
    "all_cfp_set = set()\n",
    "all_oct_set = set()\n",
    "for dataset in datasets:\n",
    "    cfp_set =  id_sets['cfp']['Subject'][dataset]\n",
    "    oct_set =  id_sets['oct']['Subject'][dataset]\n",
    "    common_set = set(cfp_set).union(set(oct_set))\n",
    "    all_cfp_set = all_cfp_set.union(set(cfp_set))\n",
    "    all_oct_set = all_oct_set.union(set(oct_set))   \n",
    "    print (dataset, 'cfp', len(cfp_set), 'oct', len(oct_set), 'cfp&oct', len(common_set))\n",
    "\n",
    "print ('%d subjects have cfp images' % len(all_cfp_set))\n",
    "print ('%d subjects have oct images' % len(all_oct_set))\n",
    "print ('%d subjects have both cfp and oct images' % len(all_oct_set.intersection(all_cfp_set)))"
   ]
  },
  {
   "cell_type": "code",
   "execution_count": null,
   "id": "e614ab4c",
   "metadata": {},
   "outputs": [],
   "source": []
  }
 ],
 "metadata": {
  "kernelspec": {
   "display_name": "Python 3 (ipykernel)",
   "language": "python",
   "name": "python3"
  },
  "language_info": {
   "codemirror_mode": {
    "name": "ipython",
    "version": 3
   },
   "file_extension": ".py",
   "mimetype": "text/x-python",
   "name": "python",
   "nbconvert_exporter": "python",
   "pygments_lexer": "ipython3",
   "version": "3.8.12"
  }
 },
 "nbformat": 4,
 "nbformat_minor": 5
}
